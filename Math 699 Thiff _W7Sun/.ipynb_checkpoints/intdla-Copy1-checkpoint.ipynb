{
 "cells": [
  {
   "cell_type": "code",
   "execution_count": 1,
   "metadata": {
    "collapsed": true
   },
   "outputs": [],
   "source": [
    "#INTDLA   Simulate internal diffusion-limited aggregation.\n",
    "#   INTDLA(N) simulates an internal DLA process with N particles.\n",
    "#   (If unspecified N defaults to 10000.)\n",
    "\n",
    "#   G = INTDLA(N) also returns the final occupation grid."
   ]
  },
  {
   "cell_type": "code",
   "execution_count": 2,
   "metadata": {},
   "outputs": [
    {
     "ename": "SyntaxError",
     "evalue": "can't assign to function call (<ipython-input-2-73d0f90c5c33>, line 11)",
     "output_type": "error",
     "traceback": [
      "\u001b[1;36m  File \u001b[1;32m\"<ipython-input-2-73d0f90c5c33>\"\u001b[1;36m, line \u001b[1;32m11\u001b[0m\n\u001b[1;33m    v_dir(1) = [1,0]\u001b[0m\n\u001b[1;37m    ^\u001b[0m\n\u001b[1;31mSyntaxError\u001b[0m\u001b[1;31m:\u001b[0m can't assign to function call\n"
     ]
    }
   ],
   "source": [
    "import math\n",
    "import numpy as np\n",
    "import matplotlib.pyplot as plt\n",
    "def intdla(Npart=10000):\n",
    "    drift = np.array([0,0])\n",
    "    Ngrid = math.ceil(1.2*math.sqrt(Npart))\n",
    "    grid0 = Ngrid+1\n",
    "    grid = np.zeros(shape=(2*Ngrid+1,2*Ngrid+1))\n",
    "    \n",
    "    \n",
    "    v_dir =[[1,0],\n",
    "            [0,1],\n",
    "            [-1,0],\n",
    "            [0,-1]] # no diagonal steps\n",
    "   \n",
    "    n_dir = 4\n",
    "\n",
    "    for i in range(1, Npart+1):\n",
    "        X = np.array([0,0])\n",
    "        while 1:\n",
    "            d = np.random.randint(3, size=n_dir)\n",
    "            \n",
    "            X = X + v_dir[d] + drift\n",
    "            \n",
    "            \n",
    "            if not grid[X[0]+grid0, X[1]+grid0]:\n",
    "                grid[X[0] + grid0, X[1] + grid0] = 1\n",
    "                break\n",
    "                \n",
    "        if not i%100:\n",
    "            print(\"particle {0}\".format(i))\n",
    "            plt.imshow(grid, extent=[-Ngrid, Ngrid, -Ngrid, Ngrid])\n",
    "            plt.show()\n",
    "    plt.imshow(grid, extent=[-Ngrid.Ngrid, -Ngrid, Ngrid])\n",
    "    plt.show()\n",
    "\n",
    "if __name__=='__main__':\n",
    "    intdla()\n",
    "\n"
   ]
  },
  {
   "cell_type": "code",
   "execution_count": null,
   "metadata": {
    "collapsed": true
   },
   "outputs": [],
   "source": []
  }
 ],
 "metadata": {
  "kernelspec": {
   "display_name": "Python 3",
   "language": "python",
   "name": "python3"
  },
  "language_info": {
   "codemirror_mode": {
    "name": "ipython",
    "version": 3
   },
   "file_extension": ".py",
   "mimetype": "text/x-python",
   "name": "python",
   "nbconvert_exporter": "python",
   "pygments_lexer": "ipython3",
   "version": "3.6.1"
  }
 },
 "nbformat": 4,
 "nbformat_minor": 2
}
